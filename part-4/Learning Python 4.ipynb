{
 "cells": [
  {
   "cell_type": "markdown",
   "metadata": {},
   "source": [
    "# Object Oriented Programming in Python"
   ]
  },
  {
   "cell_type": "markdown",
   "metadata": {},
   "source": [
    "![Object](http://geekandpoke.typepad.com/.a/6a00d8341d3df553ef017616f132ad970c-pi)\n",
    "\n",
    "> *A class is an entity that encapsulates data and methods for manipulating that data.*"
   ]
  },
  {
   "cell_type": "markdown",
   "metadata": {},
   "source": [
    "## Python Data Model"
   ]
  },
  {
   "cell_type": "code",
   "execution_count": null,
   "metadata": {},
   "outputs": [],
   "source": [
    "# 1. Variables are labels not boxes\n",
    "\n",
    "a = [1, 2, 3]\n",
    "\n",
    "b = a\n",
    "\n",
    "b.append(4)\n",
    "\n",
    "a"
   ]
  },
  {
   "cell_type": "code",
   "execution_count": null,
   "metadata": {},
   "outputs": [],
   "source": [
    "# 2. Everything is an object\n",
    "\n",
    "object()"
   ]
  },
  {
   "cell_type": "code",
   "execution_count": null,
   "metadata": {},
   "outputs": [],
   "source": [
    "isinstance(a, list)"
   ]
  },
  {
   "cell_type": "code",
   "execution_count": null,
   "metadata": {},
   "outputs": [],
   "source": [
    "isinstance(a, object)"
   ]
  },
  {
   "cell_type": "code",
   "execution_count": null,
   "metadata": {},
   "outputs": [],
   "source": [
    "isinstance(42, object)"
   ]
  },
  {
   "cell_type": "code",
   "execution_count": null,
   "metadata": {},
   "outputs": [],
   "source": [
    "def func():\n",
    "    print 'Func'\n",
    "    \n",
    "isinstance(func, object)"
   ]
  },
  {
   "cell_type": "code",
   "execution_count": null,
   "metadata": {},
   "outputs": [],
   "source": [
    "import this"
   ]
  },
  {
   "cell_type": "code",
   "execution_count": null,
   "metadata": {},
   "outputs": [],
   "source": [
    "isinstance(this, object)"
   ]
  },
  {
   "cell_type": "code",
   "execution_count": null,
   "metadata": {},
   "outputs": [],
   "source": [
    "# 3a. Everython Python object has a type, an identity and a value\n",
    "\n",
    "type(5), id(5), 5"
   ]
  },
  {
   "cell_type": "code",
   "execution_count": null,
   "metadata": {},
   "outputs": [],
   "source": [
    "# 3b. Only the value of an object is mutable\n",
    "\n",
    "a = 42\n",
    "print id(a), type(a)\n",
    "\n",
    "a = 'Foo'\n",
    "print id(a), type(a)"
   ]
  },
  {
   "cell_type": "code",
   "execution_count": null,
   "metadata": {},
   "outputs": [],
   "source": [
    "# 4. `==` compares value, `is` compares id\n",
    "\n",
    "l1 = [1, 2, 3, 4]\n",
    "l2 = [1, 2, 3, 4]\n",
    "\n",
    "l1 == l2, l1 is l2"
   ]
  },
  {
   "cell_type": "code",
   "execution_count": null,
   "metadata": {},
   "outputs": [],
   "source": [
    "0 is False, 0 == False"
   ]
  },
  {
   "cell_type": "markdown",
   "metadata": {},
   "source": [
    "## Classes"
   ]
  },
  {
   "cell_type": "code",
   "execution_count": null,
   "metadata": {},
   "outputs": [],
   "source": [
    "class OldClassName:\n",
    "    pass\n",
    "\n",
    "class NewClassName(object):\n",
    "    pass\n",
    "\n",
    "a = OldClassName()\n",
    "b = NewClassName()"
   ]
  },
  {
   "cell_type": "code",
   "execution_count": null,
   "metadata": {},
   "outputs": [],
   "source": [
    "type(a)"
   ]
  },
  {
   "cell_type": "code",
   "execution_count": null,
   "metadata": {},
   "outputs": [],
   "source": [
    "type(b)"
   ]
  },
  {
   "cell_type": "markdown",
   "metadata": {},
   "source": [
    "**Always use `New Style` classes**"
   ]
  },
  {
   "cell_type": "code",
   "execution_count": 2,
   "metadata": {},
   "outputs": [],
   "source": [
    "class Circle(object):\n",
    "    'A circle in a 2D plane'\n",
    "    \n",
    "    version = '0.1' # Class variable\n",
    "    \n",
    "    # Initializer, not constructor\n",
    "    def __init__(self, radius):\n",
    "        self.radius = radius # Instance variable"
   ]
  },
  {
   "cell_type": "code",
   "execution_count": null,
   "metadata": {},
   "outputs": [],
   "source": [
    "c = Circle(5)"
   ]
  },
  {
   "cell_type": "code",
   "execution_count": 22,
   "metadata": {},
   "outputs": [],
   "source": [
    "import math\n",
    "\n",
    "class Circle(object):\n",
    "    'A circle in a 2D plane'\n",
    "    \n",
    "    version = '0.2' # Class variable\n",
    "    \n",
    "    # Initializer, not constructor\n",
    "    def __init__(self, radius):\n",
    "        self.radius = radius # Instance variable\n",
    "    \n",
    "    # Method\n",
    "    def area(self):\n",
    "        return math.pi * self.radius ** 2"
   ]
  },
  {
   "cell_type": "code",
   "execution_count": null,
   "metadata": {},
   "outputs": [],
   "source": [
    "c.area()"
   ]
  },
  {
   "cell_type": "code",
   "execution_count": null,
   "metadata": {},
   "outputs": [],
   "source": [
    "Circle(5).area()"
   ]
  },
  {
   "cell_type": "code",
   "execution_count": 17,
   "metadata": {},
   "outputs": [
    {
     "name": "stdout",
     "output_type": "stream",
     "text": [
      "Created circle with radius 17\n",
      "Updated area to 2376.95\n"
     ]
    }
   ],
   "source": [
    "import random\n",
    "\n",
    "def run_real_usecase():\n",
    "    c = Circle(random.randint(1, 100))\n",
    "    print 'Created circle with radius {}'.format(c.radius)\n",
    "    c.radius *= 1.61803\n",
    "    print 'Updated area to {:.2f}'.format(c.area())\n",
    "\n",
    "run_real_usecase()"
   ]
  },
  {
   "cell_type": "markdown",
   "metadata": {},
   "source": [
    "### Requirements change:\n",
    "\n",
    "> **Thou shalt not store the radius!**"
   ]
  },
  {
   "cell_type": "code",
   "execution_count": 19,
   "metadata": {},
   "outputs": [],
   "source": [
    "class Circle(object):\n",
    "    'A circle in a 2D plane'\n",
    "    \n",
    "    version = '0.3'\n",
    "    \n",
    "    def __init__(self, diameter):\n",
    "        self.diameter = diameter\n",
    "        \n",
    "    def area(self):\n",
    "        return 0.25 * math.pi * self.diameter ** 2"
   ]
  },
  {
   "cell_type": "code",
   "execution_count": 20,
   "metadata": {},
   "outputs": [
    {
     "ename": "AttributeError",
     "evalue": "'Circle' object has no attribute 'radius'",
     "output_type": "error",
     "traceback": [
      "\u001b[0;31m---------------------------------------------------------------------------\u001b[0m",
      "\u001b[0;31mAttributeError\u001b[0m                            Traceback (most recent call last)",
      "\u001b[0;32m<ipython-input-20-2ecdc7eeed20>\u001b[0m in \u001b[0;36m<module>\u001b[0;34m()\u001b[0m\n\u001b[0;32m----> 1\u001b[0;31m \u001b[0mrun_real_usecase\u001b[0m\u001b[0;34m(\u001b[0m\u001b[0;34m)\u001b[0m\u001b[0;34m\u001b[0m\u001b[0m\n\u001b[0m",
      "\u001b[0;32m<ipython-input-17-c1e85dcba6a8>\u001b[0m in \u001b[0;36mrun_real_usecase\u001b[0;34m()\u001b[0m\n\u001b[1;32m      3\u001b[0m \u001b[0;32mdef\u001b[0m \u001b[0mrun_real_usecase\u001b[0m\u001b[0;34m(\u001b[0m\u001b[0;34m)\u001b[0m\u001b[0;34m:\u001b[0m\u001b[0;34m\u001b[0m\u001b[0m\n\u001b[1;32m      4\u001b[0m     \u001b[0mc\u001b[0m \u001b[0;34m=\u001b[0m \u001b[0mCircle\u001b[0m\u001b[0;34m(\u001b[0m\u001b[0mrandom\u001b[0m\u001b[0;34m.\u001b[0m\u001b[0mrandint\u001b[0m\u001b[0;34m(\u001b[0m\u001b[0;36m1\u001b[0m\u001b[0;34m,\u001b[0m \u001b[0;36m100\u001b[0m\u001b[0;34m)\u001b[0m\u001b[0;34m)\u001b[0m\u001b[0;34m\u001b[0m\u001b[0m\n\u001b[0;32m----> 5\u001b[0;31m     \u001b[0;32mprint\u001b[0m \u001b[0;34m'Created circle with radius {}'\u001b[0m\u001b[0;34m.\u001b[0m\u001b[0mformat\u001b[0m\u001b[0;34m(\u001b[0m\u001b[0mc\u001b[0m\u001b[0;34m.\u001b[0m\u001b[0mradius\u001b[0m\u001b[0;34m)\u001b[0m\u001b[0;34m\u001b[0m\u001b[0m\n\u001b[0m\u001b[1;32m      6\u001b[0m     \u001b[0mc\u001b[0m\u001b[0;34m.\u001b[0m\u001b[0mradius\u001b[0m \u001b[0;34m*=\u001b[0m \u001b[0;36m1.61803\u001b[0m\u001b[0;34m\u001b[0m\u001b[0m\n\u001b[1;32m      7\u001b[0m     \u001b[0;32mprint\u001b[0m \u001b[0;34m'Updated area to {:.2f}'\u001b[0m\u001b[0;34m.\u001b[0m\u001b[0mformat\u001b[0m\u001b[0;34m(\u001b[0m\u001b[0mc\u001b[0m\u001b[0;34m.\u001b[0m\u001b[0marea\u001b[0m\u001b[0;34m(\u001b[0m\u001b[0;34m)\u001b[0m\u001b[0;34m)\u001b[0m\u001b[0;34m\u001b[0m\u001b[0m\n",
      "\u001b[0;31mAttributeError\u001b[0m: 'Circle' object has no attribute 'radius'"
     ]
    }
   ],
   "source": [
    "run_real_usecase()"
   ]
  },
  {
   "cell_type": "markdown",
   "metadata": {},
   "source": [
    "> **I told you so, you should have used getters and setters!**\n",
    "\n",
    "`c.radius *= 1.61803` 🡲 `c.set_radius(c.get_radius() * 1.61803)`"
   ]
  },
  {
   "cell_type": "code",
   "execution_count": 39,
   "metadata": {},
   "outputs": [],
   "source": [
    "class Circle(object):\n",
    "    'A circle in a 2D plane'\n",
    "    \n",
    "    version = '0.4'\n",
    "    \n",
    "    def __init__(self, diameter):\n",
    "        self.diameter = diameter\n",
    "        \n",
    "    def area(self):\n",
    "        return 0.25 * math.pi * self.diameter ** 2\n",
    "    \n",
    "    @property\n",
    "    def radius(self):\n",
    "        return self.diameter / 2.0\n",
    "    \n",
    "    @radius.setter\n",
    "    def radius(self, radius):\n",
    "        self.diamter = 2 * radius"
   ]
  },
  {
   "cell_type": "code",
   "execution_count": 40,
   "metadata": {},
   "outputs": [
    {
     "name": "stdout",
     "output_type": "stream",
     "text": [
      "Created circle with radius 35.5\n",
      "Updated area to 3959.19\n"
     ]
    }
   ],
   "source": [
    "run_real_usecase()"
   ]
  },
  {
   "cell_type": "code",
   "execution_count": 54,
   "metadata": {},
   "outputs": [],
   "source": [
    "class Circle(object):\n",
    "    'A circle in a 2D plane'\n",
    "    \n",
    "    version = '0.4.1'\n",
    "    \n",
    "    def __init__(self, radius):\n",
    "        self.diameter = 2 * radius\n",
    "        \n",
    "    def area(self):\n",
    "        return 0.25 * math.pi * self.diameter ** 2\n",
    "    \n",
    "    @property\n",
    "    def radius(self):\n",
    "        return self.diameter / 2.0\n",
    "    \n",
    "    @radius.setter\n",
    "    def radius(self, radius):\n",
    "        self.diamter = 2 * radius"
   ]
  },
  {
   "cell_type": "code",
   "execution_count": 53,
   "metadata": {},
   "outputs": [
    {
     "name": "stdout",
     "output_type": "stream",
     "text": [
      "Created circle with radius 54.0\n",
      "Setter got called!\n",
      "Updated area to 9160.88\n"
     ]
    }
   ],
   "source": [
    "run_real_usecase()"
   ]
  },
  {
   "cell_type": "markdown",
   "metadata": {},
   "source": [
    "> **If you really aren't storing the radius, why should I pass it at instantiation?!**  "
   ]
  },
  {
   "cell_type": "code",
   "execution_count": 55,
   "metadata": {},
   "outputs": [],
   "source": [
    "def radius_from_diameter(diameter):\n",
    "    return diameter / 2.0"
   ]
  },
  {
   "cell_type": "code",
   "execution_count": 56,
   "metadata": {},
   "outputs": [
    {
     "name": "stdout",
     "output_type": "stream",
     "text": [
      "Help on class Circle in module __main__:\n",
      "\n",
      "class Circle(__builtin__.object)\n",
      " |  A circle in a 2D plane\n",
      " |  \n",
      " |  Methods defined here:\n",
      " |  \n",
      " |  __init__(self, radius)\n",
      " |  \n",
      " |  area(self)\n",
      " |  \n",
      " |  ----------------------------------------------------------------------\n",
      " |  Data descriptors defined here:\n",
      " |  \n",
      " |  __dict__\n",
      " |      dictionary for instance variables (if defined)\n",
      " |  \n",
      " |  __weakref__\n",
      " |      list of weak references to the object (if defined)\n",
      " |  \n",
      " |  radius\n",
      " |  \n",
      " |  ----------------------------------------------------------------------\n",
      " |  Data and other attributes defined here:\n",
      " |  \n",
      " |  version = '0.4.1'\n",
      "\n"
     ]
    }
   ],
   "source": [
    "help(Circle)"
   ]
  },
  {
   "cell_type": "code",
   "execution_count": 69,
   "metadata": {},
   "outputs": [
    {
     "name": "stdout",
     "output_type": "stream",
     "text": [
      "Help on class Circle in module __main__:\n",
      "\n",
      "class Circle(__builtin__.object)\n",
      " |  A circle in a 2D plane\n",
      " |  \n",
      " |  Methods defined here:\n",
      " |  \n",
      " |  __init__(self, radius)\n",
      " |  \n",
      " |  area(self)\n",
      " |  \n",
      " |  radius_from_diameter(diameter)\n",
      " |  \n",
      " |  ----------------------------------------------------------------------\n",
      " |  Data descriptors defined here:\n",
      " |  \n",
      " |  __dict__\n",
      " |      dictionary for instance variables (if defined)\n",
      " |  \n",
      " |  __weakref__\n",
      " |      list of weak references to the object (if defined)\n",
      " |  \n",
      " |  radius\n",
      " |  \n",
      " |  ----------------------------------------------------------------------\n",
      " |  Data and other attributes defined here:\n",
      " |  \n",
      " |  version = '0.4.2'\n",
      "\n"
     ]
    }
   ],
   "source": [
    "class Circle(object):\n",
    "    'A circle in a 2D plane'\n",
    "    \n",
    "    version = '0.4.2'\n",
    "    \n",
    "    def __init__(self, radius):\n",
    "        self.diameter = 2 * radius\n",
    "        \n",
    "    def area(self):\n",
    "        return 0.25 * math.pi * self.diameter ** 2\n",
    "    \n",
    "    @property\n",
    "    def radius(self):\n",
    "        return self.diameter / 2.0\n",
    "    \n",
    "    @radius.setter\n",
    "    def radius(self, radius):\n",
    "        self.diamter = 2 * radius\n",
    "    \n",
    "    def radius_from_diameter(diameter):\n",
    "        return diameter / 2.0\n",
    "\n",
    "help(Circle)"
   ]
  },
  {
   "cell_type": "code",
   "execution_count": 70,
   "metadata": {},
   "outputs": [
    {
     "ename": "TypeError",
     "evalue": "unbound method radius_from_diameter() must be called with Circle instance as first argument (got int instance instead)",
     "output_type": "error",
     "traceback": [
      "\u001b[0;31m---------------------------------------------------------------------------\u001b[0m",
      "\u001b[0;31mTypeError\u001b[0m                                 Traceback (most recent call last)",
      "\u001b[0;32m<ipython-input-70-c0f4f4893d39>\u001b[0m in \u001b[0;36m<module>\u001b[0;34m()\u001b[0m\n\u001b[0;32m----> 1\u001b[0;31m \u001b[0mCircle\u001b[0m\u001b[0;34m.\u001b[0m\u001b[0mradius_from_diameter\u001b[0m\u001b[0;34m(\u001b[0m\u001b[0;36m42\u001b[0m\u001b[0;34m)\u001b[0m\u001b[0;34m\u001b[0m\u001b[0m\n\u001b[0m",
      "\u001b[0;31mTypeError\u001b[0m: unbound method radius_from_diameter() must be called with Circle instance as first argument (got int instance instead)"
     ]
    }
   ],
   "source": [
    "Circle.radius_from_diameter(42)"
   ]
  },
  {
   "cell_type": "code",
   "execution_count": 68,
   "metadata": {},
   "outputs": [
    {
     "data": {
      "text/plain": [
       "21.0"
      ]
     },
     "execution_count": 68,
     "metadata": {},
     "output_type": "execute_result"
    }
   ],
   "source": [
    "class Circle(object):\n",
    "    'A circle in a 2D plane'\n",
    "    \n",
    "    version = '0.4.3'\n",
    "    \n",
    "    def __init__(self, radius):\n",
    "        self.diameter = 2 * radius\n",
    "        \n",
    "    def area(self):\n",
    "        return 0.25 * math.pi * self.diameter ** 2\n",
    "    \n",
    "    @property\n",
    "    def radius(self):\n",
    "        return self.diameter / 2.0\n",
    "    \n",
    "    @radius.setter\n",
    "    def radius(self, radius):\n",
    "        self.diamter = 2 * radius\n",
    "    \n",
    "    @staticmethod\n",
    "    def radius_from_diameter(diameter):\n",
    "        return diameter / 2.0\n",
    "\n",
    "    \n",
    "Circle.radius_from_diameter(42)"
   ]
  },
  {
   "cell_type": "code",
   "execution_count": 80,
   "metadata": {},
   "outputs": [],
   "source": [
    "class Circle(object):\n",
    "    'A circle in a 2D plane'\n",
    "    \n",
    "    version = '0.5'\n",
    "    \n",
    "    def __init__(self, radius):\n",
    "        self.diameter = 2 * radius\n",
    "        \n",
    "    def area(self):\n",
    "        return 0.25 * math.pi * self.diameter ** 2\n",
    "    \n",
    "    @property\n",
    "    def radius(self):\n",
    "        return self.diameter / 2.0\n",
    "    \n",
    "    @radius.setter\n",
    "    def radius(self, radius):\n",
    "        self.diamter = 2 * radius\n",
    "    \n",
    "    @staticmethod\n",
    "    def radius_from_diameter(diameter):\n",
    "        return diameter / 2.0\n",
    "    \n",
    "    @classmethod\n",
    "    def from_diameter(cls, diameter):\n",
    "        return cls(cls.radius_from_diameter(diameter))"
   ]
  },
  {
   "cell_type": "code",
   "execution_count": 82,
   "metadata": {},
   "outputs": [
    {
     "data": {
      "text/plain": [
       "(21.0, 42.0)"
      ]
     },
     "execution_count": 82,
     "metadata": {},
     "output_type": "execute_result"
    }
   ],
   "source": [
    "c = Circle.from_diameter(42)\n",
    "c.radius, c.diameter"
   ]
  },
  {
   "cell_type": "code",
   "execution_count": 83,
   "metadata": {},
   "outputs": [
    {
     "data": {
      "text/plain": [
       "<__main__.Circle at 0x7f2a7841a850>"
      ]
     },
     "execution_count": 83,
     "metadata": {},
     "output_type": "execute_result"
    }
   ],
   "source": [
    "c"
   ]
  },
  {
   "cell_type": "code",
   "execution_count": 90,
   "metadata": {},
   "outputs": [],
   "source": [
    "class Circle(object):\n",
    "    'A circle in a 2D plane'\n",
    "    \n",
    "    version = '0.6'\n",
    "    \n",
    "    def __init__(self, radius):\n",
    "        self.diameter = 2 * radius\n",
    "        \n",
    "    def area(self):\n",
    "        return 0.25 * math.pi * self.diameter ** 2\n",
    "    \n",
    "    @property\n",
    "    def radius(self):\n",
    "        return self.diameter / 2.0\n",
    "    \n",
    "    @radius.setter\n",
    "    def radius(self, radius):\n",
    "        self.diamter = 2 * radius\n",
    "    \n",
    "    @staticmethod\n",
    "    def radius_from_diameter(diameter):\n",
    "        return diameter / 2.0\n",
    "    \n",
    "    @classmethod\n",
    "    def from_diameter(cls, diameter):\n",
    "        return cls(cls.radius_from_diameter(diameter))\n",
    "    \n",
    "    def __str__(self):\n",
    "        return 'Circle with diameter {}'.format(self.diameter)"
   ]
  },
  {
   "cell_type": "code",
   "execution_count": 88,
   "metadata": {},
   "outputs": [
    {
     "data": {
      "text/plain": [
       "<__main__.Circle at 0x7f2a78466310>"
      ]
     },
     "execution_count": 88,
     "metadata": {},
     "output_type": "execute_result"
    }
   ],
   "source": [
    "Circle(5)"
   ]
  },
  {
   "cell_type": "code",
   "execution_count": 89,
   "metadata": {},
   "outputs": [
    {
     "name": "stdout",
     "output_type": "stream",
     "text": [
      "Circle with diameter 10\n"
     ]
    }
   ],
   "source": [
    "print Circle(5)"
   ]
  },
  {
   "cell_type": "code",
   "execution_count": 94,
   "metadata": {},
   "outputs": [],
   "source": [
    "class Circle(object):\n",
    "    'A circle in a 2D plane'\n",
    "    \n",
    "    version = '0.6.1'\n",
    "    \n",
    "    def __init__(self, radius):\n",
    "        self.diameter = 2 * radius\n",
    "        \n",
    "    def area(self):\n",
    "        return 0.25 * math.pi * self.diameter ** 2\n",
    "    \n",
    "    @property\n",
    "    def radius(self):\n",
    "        return self.diameter / 2.0\n",
    "    \n",
    "    @radius.setter\n",
    "    def radius(self, radius):\n",
    "        self.diamter = 2 * radius\n",
    "    \n",
    "    @staticmethod\n",
    "    def radius_from_diameter(diameter):\n",
    "        return diameter / 2.0\n",
    "    \n",
    "    @classmethod\n",
    "    def from_diameter(cls, diameter):\n",
    "        return cls(cls.radius_from_diameter(diameter))\n",
    "    \n",
    "    def __str__(self):\n",
    "        return 'Circle with diameter {}'.format(self.diameter)\n",
    "    \n",
    "    def __repr__(self):\n",
    "        return 'Circle.from_diameter({})'.format(self.diameter)"
   ]
  },
  {
   "cell_type": "code",
   "execution_count": 99,
   "metadata": {},
   "outputs": [
    {
     "data": {
      "text/plain": [
       "Circle.from_diameter(10)"
      ]
     },
     "execution_count": 99,
     "metadata": {},
     "output_type": "execute_result"
    }
   ],
   "source": [
    "Circle(5)"
   ]
  },
  {
   "cell_type": "code",
   "execution_count": 86,
   "metadata": {},
   "outputs": [
    {
     "data": {
      "text/plain": [
       "False"
      ]
     },
     "execution_count": 86,
     "metadata": {},
     "output_type": "execute_result"
    }
   ],
   "source": [
    "c1 = Circle(10)\n",
    "c2 = Circle(10)\n",
    "\n",
    "c1 == c2"
   ]
  },
  {
   "cell_type": "markdown",
   "metadata": {},
   "source": [
    "**`c1.equals(c2)`**"
   ]
  }
 ],
 "metadata": {
  "kernelspec": {
   "display_name": "Python 2",
   "language": "python",
   "name": "python2"
  },
  "language_info": {
   "codemirror_mode": {
    "name": "ipython",
    "version": 2
   },
   "file_extension": ".py",
   "mimetype": "text/x-python",
   "name": "python",
   "nbconvert_exporter": "python",
   "pygments_lexer": "ipython2",
   "version": "2.7.12"
  }
 },
 "nbformat": 4,
 "nbformat_minor": 2
}
