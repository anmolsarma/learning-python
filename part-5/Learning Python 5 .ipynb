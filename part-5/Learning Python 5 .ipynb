{
 "cells": [
  {
   "cell_type": "markdown",
   "metadata": {},
   "source": [
    "# Object Orineted Programming in Python Continued"
   ]
  },
  {
   "cell_type": "markdown",
   "metadata": {},
   "source": [
    "## Quick Recap\n",
    "\n",
    "- An object is an entity that encapsulates data and methods for manipulating that data. \n",
    "\n",
    "- A class is a template for creating objects either directly or indirectly.\n",
    "\n",
    "- Variables are labels not boxes.\n",
    "\n",
    "- Everything is an object. That includes functions, modules and classes.\n",
    "\n",
    "- Everython object has a type, an identity and a value. Only the value changes over time.\n",
    "\n",
    "- `==` compares value, `is` compares identity.\n",
    "\n",
    "- Always use *New Style* classes i.e. inherit from `object`.\n",
    "\n",
    "- All object attributes are *public* and all methods are *virtual*.\n",
    "\n",
    "- Methods named in the form `__method__` i.e. *dunder* methods are *magic*al.\n",
    "\n",
    "- `__init__` is the initializer, not the constructor which ~~is `__new__`~~ you don't need to think about.\n",
    "\n",
    "- Use `@property` instead of getters and setters.\n",
    "\n",
    "- Use `@staticmethod`\n",
    "\n",
    "- Use `@classmethod` to implement alternative ~~constructors~~ initializers.\n",
    "\n",
    "- Implement magic methods for string representation and operator overloading where appropriate. "
   ]
  },
  {
   "cell_type": "code",
   "execution_count": 2,
   "metadata": {},
   "outputs": [],
   "source": [
    "import math \n",
    "\n",
    "# New style class, inherits from `object`\n",
    "class Circle(object):\n",
    "    'A circle in a 2D plane' # Class docstring\n",
    "    \n",
    "    version = '0.7' # Class variable\n",
    "    \n",
    "    # Initializer, not constructor\n",
    "    def __init__(self, radius):\n",
    "        self.diameter = 2 * radius # Instance variable\n",
    "    \n",
    "    # Normal method, first argument is the instance\n",
    "    def area(self):\n",
    "        return 0.25 * math.pi * self.diameter ** 2\n",
    "    \n",
    "    @property\n",
    "    def radius(self):\n",
    "        return self.diameter / 2.0\n",
    "    \n",
    "    @radius.setter\n",
    "    def radius(self, radius):\n",
    "        self.diamter = 2 * radius\n",
    "    \n",
    "    # Static method, instance is not passed\n",
    "    @staticmethod\n",
    "    def radius_from_diameter(diameter):\n",
    "        return diameter / 2.0\n",
    "    \n",
    "    # Class method, first argument is the `Circle` class itself\n",
    "    # Provides an alternative way of creating `Circle` instances\n",
    "    @classmethod\n",
    "    def from_diameter(cls, diameter):\n",
    "        return cls(cls.radius_from_diameter(diameter))\n",
    "    \n",
    "    # String representation for end users\n",
    "    def __str__(self):\n",
    "        return 'Circle with diameter {}'.format(self.diameter)\n",
    "    \n",
    "    # String representation for developers\n",
    "    def __repr__(self):\n",
    "        return 'Circle.from_diameter({})'.format(self.diameter)\n",
    "    \n",
    "    # Overrride `==` operator\n",
    "    def __eq__(self, other):\n",
    "        return self.diameter == other.diameter\n",
    "    \n",
    "    # Overrride `!=` operator\n",
    "    def __ne__(self, other):\n",
    "        return self.diameter != other.diameter"
   ]
  },
  {
   "cell_type": "markdown",
   "metadata": {},
   "source": [
    "## Inheritance\n",
    "\n",
    "> Inheritance is a mechanism for code resue by which a class can deligate its work to another class"
   ]
  },
  {
   "cell_type": "code",
   "execution_count": 20,
   "metadata": {},
   "outputs": [],
   "source": [
    "import math\n",
    "\n",
    "class Circle(object):\n",
    "    \n",
    "    def __init__(self, radius):\n",
    "        self.radius = radius\n",
    "    \n",
    "    def area(self):\n",
    "        return math.pi * self.radius ** 2"
   ]
  },
  {
   "cell_type": "code",
   "execution_count": 30,
   "metadata": {},
   "outputs": [
    {
     "name": "stdout",
     "output_type": "stream",
     "text": [
      "LoggingCircle with radius 5 created\n"
     ]
    },
    {
     "data": {
      "text/plain": [
       "<__main__.LoggingCircle at 0x7f629815ff90>"
      ]
     },
     "execution_count": 30,
     "metadata": {},
     "output_type": "execute_result"
    }
   ],
   "source": [
    "class LoggingCircle(Circle):\n",
    "    'A Circle that logs its creation'\n",
    "    \n",
    "    version = '0.1'\n",
    "    \n",
    "    def __init__(self, radius):\n",
    "        Circle.__init__(self, radius)\n",
    "        print 'Circle with radius {} created'.format(self.radius)\n",
    "\n",
    "LoggingCircle(5)"
   ]
  },
  {
   "cell_type": "code",
   "execution_count": 71,
   "metadata": {},
   "outputs": [
    {
     "name": "stdout",
     "output_type": "stream",
     "text": [
      "Circle with radius 5 created\n"
     ]
    },
    {
     "data": {
      "text/plain": [
       "<__main__.LoggingCircle at 0x7f629815c4d0>"
      ]
     },
     "execution_count": 71,
     "metadata": {},
     "output_type": "execute_result"
    }
   ],
   "source": [
    "class LoggingCircle(Circle):\n",
    "    'A Circle that logs its creation'\n",
    "    \n",
    "    version = '0.2'\n",
    "    \n",
    "    def __init__(self, radius):\n",
    "        super(LoggingCircle, self).__init__(radius)\n",
    "        print 'Circle with radius {} created'.format(self.radius)\n",
    "\n",
    "LoggingCircle(5)"
   ]
  },
  {
   "cell_type": "markdown",
   "metadata": {},
   "source": [
    "## Multiple Inheritance"
   ]
  },
  {
   "cell_type": "code",
   "execution_count": 72,
   "metadata": {},
   "outputs": [
    {
     "data": {
      "text/plain": [
       "Red Circle with radius 5"
      ]
     },
     "execution_count": 72,
     "metadata": {},
     "output_type": "execute_result"
    }
   ],
   "source": [
    "class ColoredCircle(Circle):\n",
    "    \n",
    "    def __init__(self, radius, color):\n",
    "        super(ColoredCircle, self).__init__(radius)\n",
    "        self.color = color\n",
    "    \n",
    "    def __repr__(self):\n",
    "        return '{} Circle with radius {}'.format(self.color.capitalize(), self.radius)\n",
    "\n",
    "ColoredCircle(5, 'red')"
   ]
  },
  {
   "cell_type": "code",
   "execution_count": 73,
   "metadata": {},
   "outputs": [
    {
     "name": "stdout",
     "output_type": "stream",
     "text": [
      "Circle with radius 1 created\n"
     ]
    },
    {
     "data": {
      "text/plain": [
       "Blue Circle with radius 1"
      ]
     },
     "execution_count": 73,
     "metadata": {},
     "output_type": "execute_result"
    }
   ],
   "source": [
    "class ColoredLoggingCircle(ColoredCircle, LoggingCircle):\n",
    "    pass\n",
    "    \n",
    "    \n",
    "ColoredLoggingCircle(1, 'blue')"
   ]
  },
  {
   "cell_type": "markdown",
   "metadata": {},
   "source": [
    "> `super()` **does not mean parent, it means next in line!**"
   ]
  },
  {
   "cell_type": "code",
   "execution_count": 74,
   "metadata": {},
   "outputs": [
    {
     "data": {
      "text/plain": [
       "(__main__.ColoredLoggingCircle,\n",
       " __main__.ColoredCircle,\n",
       " __main__.LoggingCircle,\n",
       " __main__.Circle,\n",
       " object)"
      ]
     },
     "execution_count": 74,
     "metadata": {},
     "output_type": "execute_result"
    }
   ],
   "source": [
    "ColoredLoggingCircle.__mro__"
   ]
  },
  {
   "cell_type": "markdown",
   "metadata": {},
   "source": [
    "![Class](class.png)"
   ]
  }
 ],
 "metadata": {
  "kernelspec": {
   "display_name": "Python 2",
   "language": "python",
   "name": "python2"
  },
  "language_info": {
   "codemirror_mode": {
    "name": "ipython",
    "version": 2
   },
   "file_extension": ".py",
   "mimetype": "text/x-python",
   "name": "python",
   "nbconvert_exporter": "python",
   "pygments_lexer": "ipython2",
   "version": "2.7.12"
  }
 },
 "nbformat": 4,
 "nbformat_minor": 2
}
