{
 "cells": [
  {
   "cell_type": "markdown",
   "metadata": {},
   "source": [
    "# Threading and Parallelism"
   ]
  },
  {
   "cell_type": "markdown",
   "metadata": {},
   "source": [
    "> A thread is a flow of execution that can be independently scheduled"
   ]
  },
  {
   "cell_type": "markdown",
   "metadata": {},
   "source": [
    "`import thread`"
   ]
  },
  {
   "cell_type": "code",
   "execution_count": 1,
   "metadata": {},
   "outputs": [],
   "source": [
    "import threading"
   ]
  },
  {
   "cell_type": "code",
   "execution_count": 4,
   "metadata": {},
   "outputs": [],
   "source": [
    "import time\n",
    "\n",
    "def worker():\n",
    "    time.sleep(2)\n",
    "    print 'Done!'"
   ]
  },
  {
   "cell_type": "code",
   "execution_count": 8,
   "metadata": {},
   "outputs": [
    {
     "name": "stdout",
     "output_type": "stream",
     "text": [
      "Started thread\n",
      "Done!\n"
     ]
    }
   ],
   "source": [
    "t = threading.Thread(target=worker)\n",
    "\n",
    "t.start()\n",
    "\n",
    "print 'Started thread'\n",
    "\n",
    "t.join()"
   ]
  },
  {
   "cell_type": "code",
   "execution_count": 16,
   "metadata": {},
   "outputs": [
    {
     "name": "stdout",
     "output_type": "stream",
     "text": [
      "Started thread\n",
      "Done!\n"
     ]
    }
   ],
   "source": [
    "def worker(duration):\n",
    "    time.sleep(duration)\n",
    "    print 'Done!'\n",
    "    \n",
    "t = threading.Thread(target=worker, args=(2, ))\n",
    "\n",
    "t.start()\n",
    "\n",
    "print 'Started thread'\n",
    "\n",
    "t.join()"
   ]
  },
  {
   "cell_type": "code",
   "execution_count": 28,
   "metadata": {},
   "outputs": [
    {
     "name": "stdout",
     "output_type": "stream",
     "text": [
      "Old var is 0\n",
      "New var is 1\n",
      "Old var is 1Old var is 1Old var is 1\n",
      "New var is 2\n",
      "\n",
      "New var is 2\n",
      "\n",
      "New var is 2\n",
      "Old var is 2\n",
      " New var is 3Old var is 3\n",
      "New var is 4\n",
      "Old var is 2\n",
      "New var is 3\n",
      "\n",
      "Old var is 3\n",
      "New var is 4\n",
      " Old var is 4\n",
      "New var is 5\n",
      "Old var is 5\n",
      "New var is 6\n",
      "Old var is 6\n",
      "New var is 7\n",
      "Old var is 7\n",
      "New var is 8\n",
      "Old var is 8\n",
      "New var is 9\n",
      " Old var is 9\n",
      "New var is 10\n",
      "Old var is 10\n",
      "New var is 11\n",
      "Old var is 11\n",
      "New var is 12\n",
      "Old var is 12\n",
      "New var is 13\n",
      "Old var is 13\n",
      "New var is 14\n",
      "Old var is 14\n",
      " New var is 15\n",
      "Old var is 14\n",
      "New var is 15\n",
      "Old var is 15Old var is 15\n",
      "New var is 16\n",
      "\n",
      " New var is 16\n",
      "Old var is 16\n",
      "New var is 17\n",
      "Old var is 17\n",
      "New var is 18\n",
      "Old var is 18\n",
      "New var is 19\n",
      " Old var is 19\n",
      "New var is 20\n",
      "Old var is 20\n",
      "New var is 21\n",
      "Old var is 21\n",
      "New var is 22\n",
      "Old var is 22\n",
      "New var is 23\n",
      "Old var is 23\n",
      "New var is 24\n",
      "Old var is 24\n",
      "New var is 25\n",
      "Old var is 25\n",
      "New var is 26\n",
      "Old var is 26\n",
      "New var is 27\n",
      "Old var is 27\n",
      "New var is 28\n",
      "Old var is 28\n",
      "New var is 29\n",
      "Old var is 29\n",
      "New var is 30\n",
      "Old var is 30\n",
      "New var is 31\n",
      "Old var is 31\n",
      "New var is 32\n",
      "Old var is 32\n",
      "New var is 33\n",
      "Old var is 33\n",
      "New var is 34\n",
      "Old var is 34\n",
      "New var is 35\n",
      "Old var is 35\n",
      "New var is 36\n",
      "Old var is 36\n",
      "New var is 37\n",
      "Old var is 37\n",
      "New var is 38\n",
      "Old var is 38\n",
      "New var is 39\n",
      "Old var is 39\n",
      "New var is 40Old var is 40\n",
      "\n",
      "New var is 41\n",
      "Old var is 41\n",
      "New var is 42\n",
      "Old var is 42\n",
      "New var is 43\n",
      "Old var is 43\n",
      "New var is 44\n"
     ]
    },
    {
     "data": {
      "text/plain": [
       "44"
      ]
     },
     "execution_count": 28,
     "metadata": {},
     "output_type": "execute_result"
    }
   ],
   "source": [
    "var = 0\n",
    "\n",
    "def increment():\n",
    "        global var\n",
    "        tmp = var\n",
    "        print \"Old var is {}\".format(tmp)\n",
    "        var = tmp + 1\n",
    "        print \"New var is {}\".format(var)\n",
    "\n",
    "threads = [threading.Thread(target=increment) for _ in range(50)]\n",
    "\n",
    "for t in threads:\n",
    "    t.start()\n",
    "\n",
    "for t in threads:\n",
    "    t.join()\n",
    "\n",
    "var"
   ]
  },
  {
   "cell_type": "code",
   "execution_count": 48,
   "metadata": {},
   "outputs": [],
   "source": [
    "lock = threading.Lock()\n",
    "\n",
    "def increment():\n",
    "        global var\n",
    "        lock.acquire()\n",
    "        tmp = var\n",
    "        print \"Old var is {}\".format(tmp)\n",
    "        var = tmp + 1\n",
    "        print \"New var is {}\".format(var)\n",
    "        lock.release()"
   ]
  },
  {
   "cell_type": "code",
   "execution_count": 50,
   "metadata": {},
   "outputs": [
    {
     "name": "stdout",
     "output_type": "stream",
     "text": [
      "Old var is 0\n",
      "New var is 1\n",
      "Old var is 1\n",
      "New var is 2\n",
      "Old var is 2\n",
      "New var is 3\n",
      "Old var is 3\n",
      "New var is 4\n",
      "Old var is 4\n",
      "New var is 5\n",
      "Old var is 5\n",
      "New var is 6\n",
      "Old var is 6\n",
      "New var is 7\n",
      "Old var is 7\n",
      "New var is 8\n",
      "Old var is 8\n",
      "New var is 9\n",
      "Old var is 9\n",
      "New var is 10\n",
      "Old var is 10\n",
      "New var is 11\n",
      "Old var is 11\n",
      "New var is 12\n",
      "Old var is 12\n",
      "New var is 13\n",
      "Old var is 13\n",
      "New var is 14\n",
      "Old var is 14\n",
      "New var is 15\n",
      "Old var is 15\n",
      "New var is 16\n",
      "Old var is 16\n",
      "New var is 17\n",
      "Old var is 17\n",
      "New var is 18\n",
      "Old var is 18\n",
      "New var is 19\n",
      "Old var is 19\n",
      "New var is 20\n",
      "Old var is 20\n",
      "New var is 21\n",
      "Old var is 21\n",
      "New var is 22\n",
      "Old var is 22\n",
      "New var is 23\n",
      "Old var is 23\n",
      "New var is 24\n",
      "Old var is 24\n",
      "New var is 25\n",
      "Old var is 25\n",
      "New var is 26\n",
      "Old var is 26\n",
      "New var is 27\n",
      "Old var is 27\n",
      "New var is 28\n",
      "Old var is 28\n",
      "New var is 29\n",
      "Old var is 29\n",
      "New var is 30\n",
      "Old var is 30\n",
      "New var is 31\n",
      "Old var is 31\n",
      "New var is 32\n",
      "Old var is 32\n",
      "New var is 33\n",
      "Old var is 33\n",
      "New var is 34\n",
      "Old var is 34\n",
      "New var is 35\n",
      "Old var is 35\n",
      "New var is 36\n",
      "Old var is 36\n",
      "New var is 37\n",
      "Old var is 37\n",
      "New var is 38\n",
      "Old var is 38\n",
      "New var is 39\n",
      "Old var is 39\n",
      "New var is 40\n",
      "Old var is 40\n",
      "New var is 41\n",
      "Old var is 41\n",
      "New var is 42\n",
      "Old var is 42\n",
      "New var is 43\n",
      "Old var is 43\n",
      "New var is 44\n",
      "Old var is 44\n",
      "New var is 45\n",
      "Old var is 45\n",
      "New var is 46\n",
      "Old var is 46\n",
      "New var is 47\n",
      "Old var is 47\n",
      "New var is 48\n",
      "Old var is 48\n",
      "New var is 49\n",
      "Old var is 49\n",
      "New var is 50\n"
     ]
    },
    {
     "data": {
      "text/plain": [
       "50"
      ]
     },
     "execution_count": 50,
     "metadata": {},
     "output_type": "execute_result"
    }
   ],
   "source": [
    "var = 0\n",
    "\n",
    "threads = [threading.Thread(target=increment) for _ in range(50)]\n",
    "\n",
    "for t in threads:\n",
    "    t.start()\n",
    "\n",
    "for t in threads:\n",
    "    t.join()\n",
    "\n",
    "var"
   ]
  },
  {
   "cell_type": "code",
   "execution_count": 10,
   "metadata": {},
   "outputs": [
    {
     "name": "stdout",
     "output_type": "stream",
     "text": [
      "Produced 0\n",
      "Consumed 0\n",
      "Produced 1\n",
      "Consumed 1\n",
      "Produced 2\n",
      "Consumed 2\n",
      "Produced 3\n",
      "Consumed 3\n",
      "Produced 4\n",
      "Consumed 4\n",
      "Produced 5\n",
      "Consumed 5\n",
      "Produced 6\n",
      "Consumed 6\n",
      "Produced 7\n",
      "Consumed 7\n",
      "Produced 8\n",
      "Consumed 8\n",
      "Produced 9\n",
      "Consumed 9\n"
     ]
    }
   ],
   "source": [
    "import Queue\n",
    "\n",
    "def producer(q, num):\n",
    "    for i in range(num):\n",
    "        time.sleep(0.2)\n",
    "        print 'Produced {}'.format(i)\n",
    "        q.put(i)\n",
    "\n",
    "def consumer(q):\n",
    "    while True:\n",
    "        try:\n",
    "            i = q.get(timeout=1)\n",
    "            print 'Consumed {}'.format(i)\n",
    "        except Queue.Empty:\n",
    "            break"
   ]
  },
  {
   "cell_type": "code",
   "execution_count": 17,
   "metadata": {},
   "outputs": [
    {
     "data": {
      "text/plain": [
       "2.0844640731811523"
      ]
     },
     "execution_count": 17,
     "metadata": {},
     "output_type": "execute_result"
    }
   ],
   "source": [
    "def busy_worker(count):\n",
    "    while count:\n",
    "        count -= 1\n",
    "\n",
    "COUNT = 10 ** 8\n",
    "\n",
    "start = time.time()\n",
    "busy_worker(COUNT)\n",
    "time.time() - start"
   ]
  },
  {
   "cell_type": "code",
   "execution_count": 18,
   "metadata": {},
   "outputs": [
    {
     "data": {
      "text/plain": [
       "2.0140740871429443"
      ]
     },
     "execution_count": 18,
     "metadata": {},
     "output_type": "execute_result"
    }
   ],
   "source": [
    "t = threading.Thread(target=busy_worker, args=(COUNT, ))\n",
    "start = time.time()\n",
    "t.start()\n",
    "t.join()\n",
    "time.time() - start"
   ]
  },
  {
   "cell_type": "code",
   "execution_count": 20,
   "metadata": {},
   "outputs": [
    {
     "data": {
      "text/plain": [
       "0.9904530048370361"
      ]
     },
     "execution_count": 20,
     "metadata": {},
     "output_type": "execute_result"
    }
   ],
   "source": [
    "t = threading.Thread(target=busy_worker, args=(COUNT / 2, ))\n",
    "start = time.time()\n",
    "t.start()\n",
    "t.join()\n",
    "time.time() - start"
   ]
  },
  {
   "cell_type": "code",
   "execution_count": 21,
   "metadata": {},
   "outputs": [
    {
     "data": {
      "text/plain": [
       "3.954076051712036"
      ]
     },
     "execution_count": 21,
     "metadata": {},
     "output_type": "execute_result"
    }
   ],
   "source": [
    "t1 = threading.Thread(target=busy_worker, args=(COUNT / 2, ))\n",
    "t2 = threading.Thread(target=busy_worker, args=(COUNT / 2, ))\n",
    "\n",
    "start = time.time()\n",
    "\n",
    "t1.start()\n",
    "t2.start()\n",
    "\n",
    "t1.join()\n",
    "t2.join()\n",
    "\n",
    "time.time() - start"
   ]
  }
 ],
 "metadata": {
  "kernelspec": {
   "display_name": "Python 3",
   "language": "python",
   "name": "python3"
  },
  "language_info": {
   "codemirror_mode": {
    "name": "ipython",
    "version": 3
   },
   "file_extension": ".py",
   "mimetype": "text/x-python",
   "name": "python",
   "nbconvert_exporter": "python",
   "pygments_lexer": "ipython3",
   "version": "3.6.5"
  }
 },
 "nbformat": 4,
 "nbformat_minor": 2
}
